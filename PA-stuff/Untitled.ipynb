{
 "cells": [
  {
   "cell_type": "code",
   "execution_count": null,
   "id": "34ebd2ec-2f49-4764-bf10-cb873b20c75f",
   "metadata": {},
   "outputs": [],
   "source": [
    "import h5py\n",
    "import matplotlib.pyplot as plt\n",
    "import numpy as np\n",
    "import constants"
   ]
  },
  {
   "cell_type": "code",
   "execution_count": null,
   "id": "2b492a39-ec86-4d73-9ab4-48a446576e9a",
   "metadata": {},
   "outputs": [],
   "source": [
    "with h5py.File(f'{H5_FOLDER}/r16.h5') as f:\n",
    "    event_inten =f['/event_inten']\n",
    "\n",
    "plt.figure()\n",
    "plt.plot(event_inten"
   ]
  }
 ],
 "metadata": {
  "kernelspec": {
   "display_name": "Python 3 (ipykernel)",
   "language": "python",
   "name": "python3"
  },
  "language_info": {
   "codemirror_mode": {
    "name": "ipython",
    "version": 3
   },
   "file_extension": ".py",
   "mimetype": "text/x-python",
   "name": "python",
   "nbconvert_exporter": "python",
   "pygments_lexer": "ipython3",
   "version": "3.9.20"
  }
 },
 "nbformat": 4,
 "nbformat_minor": 5
}
