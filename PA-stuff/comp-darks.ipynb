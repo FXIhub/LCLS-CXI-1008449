{
 "cells": [
  {
   "cell_type": "code",
   "execution_count": null,
   "id": "cc7e5b36-3415-43ab-8d94-1705db3f03e6",
   "metadata": {},
   "outputs": [],
   "source": [
    "import numpy as np\n",
    "import psana\n",
    "import matplotlib.pyplot as plt\n",
    "import h5py\n",
    "\n",
    "from utils import *\n",
    "from constants import *\n",
    "from scipy.signal import find_peaks, peak_widths\n",
    "\n",
    "\n",
    "run = 42\n",
    "plt.figure()\n",
    "plt.imshow(get_run_assem_mean(run, sf=len(get_run_intens(run))/4e6),\n",
    "           vmin=0, vmax=np.median(get_run_assem_mean(run, sf=len(get_run_intens(run))/4e6))\n",
    "          )\n",
    "plt.colorbar()\n",
    "assem_plot_zoom()\n",
    "\n",
    "\n",
    "run = 63\n",
    "plt.figure()\n",
    "plt.imshow(get_run_assem_mean(run, sf=len(get_run_intens(run))/4e6),\n",
    "           vmin=0, vmax=np.median(get_run_assem_mean(run, sf=len(get_run_intens(run))/4e6))\n",
    "          )\n",
    "plt.colorbar()\n",
    "assem_plot_zoom()\n",
    "\n",
    "\n",
    "plt.figure()\n",
    "run = 42\n",
    "y1bins, y1 = get_run_azimuthal_average(run, sf=len(get_run_intens(run))/4e6)\n",
    "run = 63\n",
    "y2bins, y2 = get_run_azimuthal_average(run, sf=len(get_run_intens(run))/4e6)\n",
    "plt.plot(y1bins, y1[:-1])\n",
    "plt.plot(y2bins, y2[:-1])\n",
    "\n",
    "\n",
    "\n"
   ]
  }
 ],
 "metadata": {
  "kernelspec": {
   "display_name": "Python 3 (ipykernel)",
   "language": "python",
   "name": "python3"
  },
  "language_info": {
   "codemirror_mode": {
    "name": "ipython",
    "version": 3
   },
   "file_extension": ".py",
   "mimetype": "text/x-python",
   "name": "python",
   "nbconvert_exporter": "python",
   "pygments_lexer": "ipython3",
   "version": "3.9.20"
  }
 },
 "nbformat": 4,
 "nbformat_minor": 5
}
