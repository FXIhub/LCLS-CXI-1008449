{
 "cells": [
  {
   "cell_type": "markdown",
   "id": "d809e132-6567-40ef-8c44-f80a0d76bc0a",
   "metadata": {},
   "source": [
    "### Imports"
   ]
  },
  {
   "cell_type": "code",
   "execution_count": 1,
   "id": "1ec4c2aa-eef9-451b-8ed5-9ef8ebc7e80b",
   "metadata": {},
   "outputs": [],
   "source": [
    "import psana\n",
    "import numpy as np\n",
    "import matplotlib.pyplot as plt"
   ]
  },
  {
   "cell_type": "markdown",
   "id": "c0c96ef6-88c6-4768-a2fd-e87021358b3e",
   "metadata": {},
   "source": [
    "### Generate Data source"
   ]
  },
  {
   "cell_type": "code",
   "execution_count": 2,
   "id": "e0577eac-6791-411f-a233-4e7c1ae601bb",
   "metadata": {},
   "outputs": [],
   "source": [
    "EXPTAG='cxip18619'\n",
    "RUN=3\n",
    "\n",
    "ds = psana.DataSource(f'exp={EXPTAG}:run={RUN}:smd')"
   ]
  },
  {
   "cell_type": "markdown",
   "id": "c3f5a1a5-038e-4f34-8199-23132fe4ca2a",
   "metadata": {},
   "source": [
    "### Iterate events"
   ]
  },
  {
   "cell_type": "code",
   "execution_count": 3,
   "id": "e23005f6-e39c-4f7a-8f14-0348984b03fb",
   "metadata": {},
   "outputs": [
    {
     "name": "stdout",
     "output_type": "stream",
     "text": [
      "Number of events: 3609\n"
     ]
    }
   ],
   "source": [
    "\n",
    "### ds must be remade each time to use ds.events (iterator nonsense)\n",
    "ds = psana.DataSource(f'exp={EXPTAG}:run={RUN}:smd')\n",
    "nevents = 0\n",
    "for event in ds.events():\n",
    "    nevents +=1\n",
    "print(f'Number of events: {nevents}')\n",
    "\n",
    "\n"
   ]
  },
  {
   "cell_type": "markdown",
   "id": "32368643-2aa1-49a0-a4fa-5d8501da1042",
   "metadata": {},
   "source": [
    "### Get specific event"
   ]
  },
  {
   "cell_type": "code",
   "execution_count": 4,
   "id": "26f6ce0b-1947-43be-aabc-bb34fd1af09a",
   "metadata": {},
   "outputs": [],
   "source": [
    "\n",
    "# get the 1000th event (somewhere in the middle)\n",
    "# There is probably a better way to do this but i don't understand iterators.\n",
    "ds = psana.DataSource(f'exp={EXPTAG}:run={RUN}:smd')\n",
    "count = 0\n",
    "for event in ds.events():\n",
    "    if count<1000:\n",
    "        count+=1\n",
    "    else:\n",
    "        break"
   ]
  },
  {
   "cell_type": "markdown",
   "id": "c1d81588-ed55-46d7-8f34-bfe71fe9854f",
   "metadata": {},
   "source": [
    "### Get detector names"
   ]
  },
  {
   "cell_type": "code",
   "execution_count": 5,
   "id": "286b04e7-945d-4221-b16e-0fa10ee241bb",
   "metadata": {},
   "outputs": [
    {
     "name": "stdout",
     "output_type": "stream",
     "text": [
      "###Detectors\n",
      "CxiDs2.0:Cspad.0\tDsdCsPad\t\n",
      "NoDetector.0:Evr.0\tevr0\t\n",
      "NoDetector.0:Evr.1\tevr1\t\n",
      "NoDetector.0:Evr.2\tevr2\t\n",
      "EBeam\t\t\n",
      "FEEGasDetEnergy\t\t\n",
      "CXI-DG2-BMMON\t\t\n",
      "CXI-DG3-BMMON\t\t\n",
      "CxiDs1.0:Wave8.2\tCXI-DG3-BMMON-WF\t\n",
      "CxiDs1.0:Jungfrau.0\tjungfrau4M\t\n",
      "ControlData\t\t\n",
      "\n",
      "###EPICS\n",
      "AT1L0:SOLID:MPA:01:POS_STATE_RBV\tat1l0_SolidAttenuator_1_1500pm_diam\t\n",
      "AT1L0:SOLID:MPA:02:POS_STATE_RBV\tat1l0_SolidAttenuator_2_13um_diam\t\n",
      "AT1L0:SOLID:MPA:03:POS_STATE_RBV\tat1l0_SolidAttenuator_3_62um_diam\t\n",
      "... Total: 420 ...\n",
      "XRT:DIA:MMS:16:DF\tpicker_status\t\n",
      "XRT:DIA:MMS:16:SE\tpicker_selected_mode\t\n",
      "XRT:M3H:SWITCH\tpicker_m3h_switch\t\n"
     ]
    }
   ],
   "source": [
    "ds = psana.DataSource(f'exp={EXPTAG}:run={RUN}:smd')\n",
    "\n",
    "print(\"###Detectors\")\n",
    "dets = psana.DetNames() #list of (Full-Name, DAQ-Alias, User-Alias) for each detector. \n",
    "#Only Full-Name is certain to be there, others are more informative\n",
    "for det in dets:\n",
    "    print(*det, sep='\\t')\n",
    "\n",
    "print('')\n",
    "\n",
    "print(\"###EPICS\")\n",
    "dets = psana.DetNames('epics') #idk what epics are, i think this is control motors and such\n",
    "for det in dets[:3]:\n",
    "    print(*det, sep='\\t')\n",
    "    \n",
    "print(f'... Total: {len(dets)} ...')\n",
    "\n",
    "for det in dets[-3:]:\n",
    "    print(*det, sep='\\t')\n",
    "    "
   ]
  },
  {
   "cell_type": "markdown",
   "id": "6237af35-4a73-4379-8bd9-a5e4869a2a9b",
   "metadata": {},
   "source": [
    "### Open a detector"
   ]
  },
  {
   "cell_type": "code",
   "execution_count": 6,
   "id": "9f4952ed-a0db-40c9-9635-49fe0c336939",
   "metadata": {},
   "outputs": [],
   "source": [
    "ds = psana.DataSource(f'exp={EXPTAG}:run={RUN}:smd')\n",
    "env = ds.env() #not sure what this is or why we load it\n",
    "\n",
    "det_name = 'CxiDs1.0:Jungfrau.0' ## or alias 'jungfrau4M'\n",
    "\n",
    "det = psana.Detector(det_name, env)\n"
   ]
  },
  {
   "cell_type": "markdown",
   "id": "ad7f29e9-2aa3-43fe-a028-6ecb53c49a2f",
   "metadata": {},
   "source": [
    "### Get detector info"
   ]
  },
  {
   "cell_type": "code",
   "execution_count": 7,
   "id": "9dcfe228-34d6-42ca-a7d1-125f12ae409b",
   "metadata": {},
   "outputs": [],
   "source": [
    "det_shape= det.shape(par=0) # (8, 512, 1024) this would be constant for all exps.\n",
    "# Also:\n",
    "# det_size = det.size(par=0) # 3*512*1024\n",
    "# det_ndim = det.ndim(par=0) # 3\n",
    "# but this info can be calculated from det_shape\n",
    "# det_instrument = det.instrument()  # 'cxi' (obviously)"
   ]
  },
  {
   "cell_type": "code",
   "execution_count": 8,
   "id": "a279d128-34fc-4921-8c72-8315a7da7a9b",
   "metadata": {},
   "outputs": [
    {
     "name": "stderr",
     "output_type": "stream",
     "text": [
      "2025-07-02 02:22:29.338 [ERR] {XtcInput.SharedFile} SharedFile.cpp:90 - failed to open input XTC file: /sdf/data/lcls/ds/cxi/cxip18619/xtc/cxip18619-r0003-s03-c00.xtc\n"
     ]
    },
    {
     "ename": "ValueError",
     "evalue": "FileOpenException: failed to open file /sdf/data/lcls/ds/cxi/cxip18619/xtc/cxip18619-r0003-s03-c00.xtc: No such file or directory [in function SharedFileImpl at XtcInput/src/SharedFile.cpp:91]",
     "output_type": "error",
     "traceback": [
      "\u001b[0;31m---------------------------------------------------------------------------\u001b[0m",
      "\u001b[0;31mValueError\u001b[0m                                Traceback (most recent call last)",
      "Cell \u001b[0;32mIn[8], line 1\u001b[0m\n\u001b[0;32m----> 1\u001b[0m nda_raw \u001b[38;5;241m=\u001b[39m \u001b[43mdet\u001b[49m\u001b[38;5;241;43m.\u001b[39;49m\u001b[43mraw\u001b[49m\u001b[43m(\u001b[49m\u001b[43mevent\u001b[49m\u001b[43m)\u001b[49m\n",
      "File \u001b[0;32m/sdf/group/lcls/ds/ana/sw/conda1/inst/envs/ana-4.0.66-py3/lib/python3.9/site-packages/Detector/AreaDetector.py:904\u001b[0m, in \u001b[0;36mAreaDetector.raw\u001b[0;34m(self, evt)\u001b[0m\n\u001b[1;32m    887\u001b[0m \u001b[38;5;250m\u001b[39m\u001b[38;5;124;03m\"\"\"Returns per-pixel array of intensities from raw data.\u001b[39;00m\n\u001b[1;32m    888\u001b[0m \n\u001b[1;32m    889\u001b[0m \u001b[38;5;124;03m   Parameter\u001b[39;00m\n\u001b[0;32m   (...)\u001b[0m\n\u001b[1;32m    895\u001b[0m \u001b[38;5;124;03m   - np.array - per-pixel intensities [ADU] of raw data.\u001b[39;00m\n\u001b[1;32m    896\u001b[0m \u001b[38;5;124;03m\"\"\"\u001b[39;00m\n\u001b[1;32m    897\u001b[0m \u001b[38;5;66;03m#rdata = None\u001b[39;00m\n\u001b[1;32m    898\u001b[0m \u001b[38;5;66;03m#if self.iscpp :\u001b[39;00m\n\u001b[1;32m    899\u001b[0m \u001b[38;5;66;03m#    if   self.dettype == gu.CSPAD   : rdata = self.da.data_int16_3 (evt, self.env)\u001b[39;00m\n\u001b[0;32m   (...)\u001b[0m\n\u001b[1;32m    902\u001b[0m \u001b[38;5;66;03m#    else:                             rdata = self.da.data_uint16_2(evt, self.env)\u001b[39;00m\n\u001b[1;32m    903\u001b[0m \u001b[38;5;66;03m#else:\u001b[39;00m\n\u001b[0;32m--> 904\u001b[0m rdata \u001b[38;5;241m=\u001b[39m \u001b[38;5;28;43mself\u001b[39;49m\u001b[38;5;241;43m.\u001b[39;49m\u001b[43mpyda\u001b[49m\u001b[38;5;241;43m.\u001b[39;49m\u001b[43mraw_data\u001b[49m\u001b[43m(\u001b[49m\u001b[43mevt\u001b[49m\u001b[43m,\u001b[49m\u001b[43m \u001b[49m\u001b[38;5;28;43mself\u001b[39;49m\u001b[38;5;241;43m.\u001b[39;49m\u001b[43menv\u001b[49m\u001b[43m)\u001b[49m\n\u001b[1;32m    906\u001b[0m \u001b[38;5;28;01mif\u001b[39;00m rdata \u001b[38;5;129;01mis\u001b[39;00m \u001b[38;5;129;01mnot\u001b[39;00m \u001b[38;5;28;01mNone\u001b[39;00m: \u001b[38;5;28;01mreturn\u001b[39;00m \u001b[38;5;28mself\u001b[39m\u001b[38;5;241m.\u001b[39m_shaped_array_(\u001b[38;5;28mself\u001b[39m\u001b[38;5;241m.\u001b[39mrunnum(evt), rdata)\n\u001b[1;32m    908\u001b[0m \u001b[38;5;28;01mif\u001b[39;00m \u001b[38;5;28mself\u001b[39m\u001b[38;5;241m.\u001b[39mpbits:\n",
      "File \u001b[0;32m/sdf/group/lcls/ds/ana/sw/conda1/inst/envs/ana-4.0.66-py3/lib/python3.9/site-packages/Detector/PyDetectorAccess.py:679\u001b[0m, in \u001b[0;36mPyDetectorAccess.raw_data\u001b[0;34m(self, evt, env)\u001b[0m\n\u001b[1;32m    677\u001b[0m \u001b[38;5;28;01melif\u001b[39;00m \u001b[38;5;28mself\u001b[39m\u001b[38;5;241m.\u001b[39mdettype \u001b[38;5;241m==\u001b[39m gu\u001b[38;5;241m.\u001b[39mANDOR     : \u001b[38;5;28;01mreturn\u001b[39;00m \u001b[38;5;28mself\u001b[39m\u001b[38;5;241m.\u001b[39mraw_data_andor(evt, env)     \u001b[38;5;66;03m# 0.1 ms\u001b[39;00m\n\u001b[1;32m    678\u001b[0m \u001b[38;5;28;01melif\u001b[39;00m \u001b[38;5;28mself\u001b[39m\u001b[38;5;241m.\u001b[39mdettype \u001b[38;5;241m==\u001b[39m gu\u001b[38;5;241m.\u001b[39mANDOR3D   : \u001b[38;5;28;01mreturn\u001b[39;00m \u001b[38;5;28mself\u001b[39m\u001b[38;5;241m.\u001b[39mraw_data_andor(evt, env)\n\u001b[0;32m--> 679\u001b[0m \u001b[38;5;28;01melif\u001b[39;00m \u001b[38;5;28mself\u001b[39m\u001b[38;5;241m.\u001b[39mdettype \u001b[38;5;241m==\u001b[39m gu\u001b[38;5;241m.\u001b[39mJUNGFRAU  : \u001b[38;5;28;01mreturn\u001b[39;00m \u001b[38;5;28;43mself\u001b[39;49m\u001b[38;5;241;43m.\u001b[39;49m\u001b[43mraw_data_jungfrau\u001b[49m\u001b[43m(\u001b[49m\u001b[43mevt\u001b[49m\u001b[43m,\u001b[49m\u001b[43m \u001b[49m\u001b[43menv\u001b[49m\u001b[43m)\u001b[49m\n\u001b[1;32m    680\u001b[0m \u001b[38;5;28;01melif\u001b[39;00m \u001b[38;5;28mself\u001b[39m\u001b[38;5;241m.\u001b[39mdettype \u001b[38;5;129;01min\u001b[39;00m (gu\u001b[38;5;241m.\u001b[39mEPIX100A, gu\u001b[38;5;241m.\u001b[39mEPIX10K, gu\u001b[38;5;241m.\u001b[39mEPIX10KA,\n\u001b[1;32m    681\u001b[0m                       gu\u001b[38;5;241m.\u001b[39mEPIX10KA2M, gu\u001b[38;5;241m.\u001b[39mEPIX10KAQUAD, gu\u001b[38;5;241m.\u001b[39mEPIX)\\\n\u001b[1;32m    682\u001b[0m                                   : \u001b[38;5;28;01mreturn\u001b[39;00m \u001b[38;5;28mself\u001b[39m\u001b[38;5;241m.\u001b[39mraw_data_epix(evt, env)\n",
      "File \u001b[0;32m/sdf/group/lcls/ds/ana/sw/conda1/inst/envs/ana-4.0.66-py3/lib/python3.9/site-packages/Detector/PyDetectorAccess.py:875\u001b[0m, in \u001b[0;36mPyDetectorAccess.raw_data_jungfrau\u001b[0;34m(self, evt, env)\u001b[0m\n\u001b[1;32m    874\u001b[0m \u001b[38;5;28;01mdef\u001b[39;00m \u001b[38;5;21mraw_data_jungfrau\u001b[39m(\u001b[38;5;28mself\u001b[39m, evt, env):\n\u001b[0;32m--> 875\u001b[0m     d \u001b[38;5;241m=\u001b[39m \u001b[43mpda\u001b[49m\u001b[38;5;241;43m.\u001b[39;49m\u001b[43mget_jungfrau_data_object\u001b[49m\u001b[43m(\u001b[49m\u001b[43mevt\u001b[49m\u001b[43m,\u001b[49m\u001b[43m \u001b[49m\u001b[38;5;28;43mself\u001b[39;49m\u001b[38;5;241;43m.\u001b[39;49m\u001b[43msource\u001b[49m\u001b[43m)\u001b[49m\n\u001b[1;32m    876\u001b[0m     \u001b[38;5;28;01mif\u001b[39;00m d \u001b[38;5;129;01mis\u001b[39;00m \u001b[38;5;28;01mNone\u001b[39;00m: \u001b[38;5;28;01mreturn\u001b[39;00m \u001b[38;5;28;01mNone\u001b[39;00m\n\u001b[1;32m    877\u001b[0m     \u001b[38;5;28;01mreturn\u001b[39;00m d\u001b[38;5;241m.\u001b[39mframe()\n",
      "File \u001b[0;32m/sdf/group/lcls/ds/ana/sw/conda1/inst/envs/ana-4.0.66-py3/lib/python3.9/site-packages/Detector/PyDataAccess.py:550\u001b[0m, in \u001b[0;36mget_jungfrau_data_object\u001b[0;34m(evt, src)\u001b[0m\n\u001b[1;32m    547\u001b[0m \u001b[38;5;28;01mdef\u001b[39;00m \u001b[38;5;21mget_jungfrau_data_object\u001b[39m(evt, src):\n\u001b[1;32m    548\u001b[0m \u001b[38;5;250m    \u001b[39m\u001b[38;5;124;03m\"\"\"get jungfrau data object\u001b[39;00m\n\u001b[1;32m    549\u001b[0m \u001b[38;5;124;03m    \"\"\"\u001b[39;00m\n\u001b[0;32m--> 550\u001b[0m     o \u001b[38;5;241m=\u001b[39m \u001b[43mevt\u001b[49m\u001b[38;5;241;43m.\u001b[39;49m\u001b[43mget\u001b[49m\u001b[43m(\u001b[49m\u001b[43m_psana\u001b[49m\u001b[38;5;241;43m.\u001b[39;49m\u001b[43mJungfrau\u001b[49m\u001b[38;5;241;43m.\u001b[39;49m\u001b[43mElementV2\u001b[49m\u001b[43m,\u001b[49m\u001b[43m \u001b[49m\u001b[43msrc\u001b[49m\u001b[43m)\u001b[49m\n\u001b[1;32m    551\u001b[0m     \u001b[38;5;28;01mif\u001b[39;00m o \u001b[38;5;129;01mis\u001b[39;00m \u001b[38;5;129;01mnot\u001b[39;00m \u001b[38;5;28;01mNone\u001b[39;00m: \u001b[38;5;28;01mreturn\u001b[39;00m o\n\u001b[1;32m    553\u001b[0m     o \u001b[38;5;241m=\u001b[39m evt\u001b[38;5;241m.\u001b[39mget(_psana\u001b[38;5;241m.\u001b[39mJungfrau\u001b[38;5;241m.\u001b[39mElementV1, src)\n",
      "\u001b[0;31mValueError\u001b[0m: FileOpenException: failed to open file /sdf/data/lcls/ds/cxi/cxip18619/xtc/cxip18619-r0003-s03-c00.xtc: No such file or directory [in function SharedFileImpl at XtcInput/src/SharedFile.cpp:91]"
     ]
    }
   ],
   "source": [
    "nda_raw = det.raw(event)"
   ]
  },
  {
   "cell_type": "code",
   "execution_count": null,
   "id": "9bd2dd38-74b4-465d-9ecf-d5640371648f",
   "metadata": {},
   "outputs": [],
   "source": []
  }
 ],
 "metadata": {
  "kernelspec": {
   "display_name": "Python 3 (ipykernel)",
   "language": "python",
   "name": "python3"
  },
  "language_info": {
   "codemirror_mode": {
    "name": "ipython",
    "version": 3
   },
   "file_extension": ".py",
   "mimetype": "text/x-python",
   "name": "python",
   "nbconvert_exporter": "python",
   "pygments_lexer": "ipython3",
   "version": "3.9.20"
  }
 },
 "nbformat": 4,
 "nbformat_minor": 5
}
