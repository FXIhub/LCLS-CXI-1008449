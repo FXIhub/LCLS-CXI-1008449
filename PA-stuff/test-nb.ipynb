{
 "cells": [
  {
   "cell_type": "markdown",
   "id": "d809e132-6567-40ef-8c44-f80a0d76bc0a",
   "metadata": {},
   "source": [
    "### Imports"
   ]
  },
  {
   "cell_type": "code",
   "execution_count": 1,
   "id": "1ec4c2aa-eef9-451b-8ed5-9ef8ebc7e80b",
   "metadata": {},
   "outputs": [],
   "source": [
    "import psana\n",
    "import numpy as np\n",
    "import matplotlib.pyplot as plt"
   ]
  },
  {
   "cell_type": "markdown",
   "id": "c0c96ef6-88c6-4768-a2fd-e87021358b3e",
   "metadata": {},
   "source": [
    "### Generate Data source"
   ]
  },
  {
   "cell_type": "code",
   "execution_count": 2,
   "id": "e0577eac-6791-411f-a233-4e7c1ae601bb",
   "metadata": {},
   "outputs": [],
   "source": [
    "EXPTAG='cxip18619'\n",
    "RUN=3\n",
    "\n",
    "ds = psana.DataSource(f'exp={EXPTAG}:run={RUN}:smd')"
   ]
  },
  {
   "cell_type": "markdown",
   "id": "c3f5a1a5-038e-4f34-8199-23132fe4ca2a",
   "metadata": {},
   "source": [
    "### Iterate events"
   ]
  },
  {
   "cell_type": "code",
   "execution_count": 3,
   "id": "e23005f6-e39c-4f7a-8f14-0348984b03fb",
   "metadata": {},
   "outputs": [
    {
     "ename": "KeyboardInterrupt",
     "evalue": "",
     "output_type": "error",
     "traceback": [
      "\u001b[0;31m---------------------------------------------------------------------------\u001b[0m",
      "\u001b[0;31mKeyboardInterrupt\u001b[0m                         Traceback (most recent call last)",
      "Cell \u001b[0;32mIn[3], line 4\u001b[0m\n\u001b[1;32m      2\u001b[0m ds \u001b[38;5;241m=\u001b[39m psana\u001b[38;5;241m.\u001b[39mDataSource(\u001b[38;5;124mf\u001b[39m\u001b[38;5;124m'\u001b[39m\u001b[38;5;124mexp=\u001b[39m\u001b[38;5;132;01m{\u001b[39;00mEXPTAG\u001b[38;5;132;01m}\u001b[39;00m\u001b[38;5;124m:run=\u001b[39m\u001b[38;5;132;01m{\u001b[39;00mRUN\u001b[38;5;132;01m}\u001b[39;00m\u001b[38;5;124m:smd\u001b[39m\u001b[38;5;124m'\u001b[39m)\n\u001b[1;32m      3\u001b[0m nevents \u001b[38;5;241m=\u001b[39m \u001b[38;5;241m0\u001b[39m\n\u001b[0;32m----> 4\u001b[0m \u001b[38;5;28;01mfor\u001b[39;00m event \u001b[38;5;129;01min\u001b[39;00m ds\u001b[38;5;241m.\u001b[39mevents():\n\u001b[1;32m      5\u001b[0m     nevents \u001b[38;5;241m+\u001b[39m\u001b[38;5;241m=\u001b[39m\u001b[38;5;241m1\u001b[39m\n\u001b[1;32m      6\u001b[0m \u001b[38;5;28mprint\u001b[39m(\u001b[38;5;124mf\u001b[39m\u001b[38;5;124m'\u001b[39m\u001b[38;5;124mNumber of events: \u001b[39m\u001b[38;5;132;01m{\u001b[39;00mnevents\u001b[38;5;132;01m}\u001b[39;00m\u001b[38;5;124m'\u001b[39m)\n",
      "\u001b[0;31mKeyboardInterrupt\u001b[0m: "
     ]
    }
   ],
   "source": [
    "\n",
    "### ds must be remade each time to use ds.events (iterator nonsense)\n",
    "ds = psana.DataSource(f'exp={EXPTAG}:run={RUN}:smd')\n",
    "nevents = 0\n",
    "for event in ds.events():\n",
    "    nevents +=1\n",
    "print(f'Number of events: {nevents}')\n",
    "\n",
    "\n"
   ]
  },
  {
   "cell_type": "markdown",
   "id": "32368643-2aa1-49a0-a4fa-5d8501da1042",
   "metadata": {},
   "source": [
    "### Get specific event"
   ]
  },
  {
   "cell_type": "code",
   "execution_count": null,
   "id": "26f6ce0b-1947-43be-aabc-bb34fd1af09a",
   "metadata": {},
   "outputs": [],
   "source": [
    "\n",
    "# get the 1000th event (somewhere in the middle)\n",
    "# There is probably a better way to do this but i don't understand iterators.\n",
    "ds = psana.DataSource(f'exp={EXPTAG}:run={RUN}:smd')\n",
    "count = 0\n",
    "for event in ds.events():\n",
    "    if count<1000:\n",
    "        count+=1\n",
    "    else:\n",
    "        break"
   ]
  },
  {
   "cell_type": "markdown",
   "id": "c1d81588-ed55-46d7-8f34-bfe71fe9854f",
   "metadata": {},
   "source": [
    "### Get detector names"
   ]
  },
  {
   "cell_type": "code",
   "execution_count": null,
   "id": "286b04e7-945d-4221-b16e-0fa10ee241bb",
   "metadata": {},
   "outputs": [],
   "source": [
    "ds = psana.DataSource(f'exp={EXPTAG}:run={RUN}:smd')\n",
    "\n",
    "print(\"###Detectors\")\n",
    "dets = psana.DetNames() #list of (Full-Name, DAQ-Alias, User-Alias) for each detector. \n",
    "#Only Full-Name is certain to be there, others are more informative\n",
    "for det in dets:\n",
    "    print(*det, sep='\\t')\n",
    "\n",
    "print('')\n",
    "\n",
    "print(\"###EPICS\")\n",
    "dets = psana.DetNames('epics') #idk what epics are, i think this is control motors and such\n",
    "for det in dets[:3]:\n",
    "    print(*det, sep='\\t')\n",
    "    \n",
    "print(f'... Total: {len(dets)} ...')\n",
    "\n",
    "for det in dets[-3:]:\n",
    "    print(*det, sep='\\t')\n",
    "    "
   ]
  },
  {
   "cell_type": "markdown",
   "id": "6237af35-4a73-4379-8bd9-a5e4869a2a9b",
   "metadata": {},
   "source": [
    "### Open a detector"
   ]
  },
  {
   "cell_type": "code",
   "execution_count": null,
   "id": "9f4952ed-a0db-40c9-9635-49fe0c336939",
   "metadata": {},
   "outputs": [],
   "source": [
    "ds = psana.DataSource(f'exp={EXPTAG}:run={RUN}:smd')\n",
    "env = ds.env() #not sure what this is or why we load it\n",
    "\n",
    "det_name = 'CxiDs1.0:Jungfrau.0' ## or alias 'jungfrau4M'\n",
    "\n",
    "det = psana.Detector(det_name, env)\n"
   ]
  },
  {
   "cell_type": "markdown",
   "id": "ad7f29e9-2aa3-43fe-a028-6ecb53c49a2f",
   "metadata": {},
   "source": [
    "### Get detector info"
   ]
  },
  {
   "cell_type": "code",
   "execution_count": null,
   "id": "9dcfe228-34d6-42ca-a7d1-125f12ae409b",
   "metadata": {},
   "outputs": [],
   "source": [
    "det_shape= det.shape(par=0) # (8, 512, 1024) this would be constant for all exps.\n",
    "# Also:\n",
    "# det_size = det.size(par=0) # 3*512*1024\n",
    "# det_ndim = det.ndim(par=0) # 3\n",
    "# but this info can be calculated from det_shape\n",
    "# det_instrument = det.instrument()  # 'cxi' (obviously)"
   ]
  },
  {
   "cell_type": "code",
   "execution_count": null,
   "id": "a279d128-34fc-4921-8c72-8315a7da7a9b",
   "metadata": {},
   "outputs": [],
   "source": [
    "nda_raw = det.calib(event)"
   ]
  },
  {
   "cell_type": "code",
   "execution_count": null,
   "id": "9bd2dd38-74b4-465d-9ecf-d5640371648f",
   "metadata": {},
   "outputs": [],
   "source": [
    "import utils"
   ]
  },
  {
   "cell_type": "code",
   "execution_count": null,
   "id": "969e9b1b-c8ea-469d-9f52-db4111e4711d",
   "metadata": {},
   "outputs": [],
   "source": [
    "ds = utils.get_ds(2)"
   ]
  },
  {
   "cell_type": "code",
   "execution_count": 1,
   "id": "5d227c2d-4d93-42fc-9296-50a157973670",
   "metadata": {},
   "outputs": [],
   "source": [
    "\n",
    "import numpy as np\n",
    "import psana\n",
    "from utils import *\n",
    "from constants import *\n",
    "\n",
    "det = get_det(9)\n",
    "ds = get_ds(9)"
   ]
  },
  {
   "cell_type": "code",
   "execution_count": 2,
   "id": "ed5c50f1-0e2f-4eac-b723-4bc330920b7d",
   "metadata": {},
   "outputs": [
    {
     "name": "stderr",
     "output_type": "stream",
     "text": [
      "2025-07-10 08:27:35.292 [ERR] {SmallDataProxy} SmallDataProxy.cpp:570 - failed to read expected amount: 8388804 only read -1 in large file /sdf/data/lcls/ds/cxi/cxip18619/xtc/cxip18619-r0009-s01-c00.xtc\n",
      "2025-07-10 08:27:35.292 [ERR] {SmallDataProxy} SmallDataProxy.cpp:595 - readBlockFromLargeFile return null\n",
      "2025-07-10 08:27:35.293 [ERR] {SmallDataProxy} SmallDataProxy.cpp:667 - Unexpected: group 2 for id 3 is loaded, but nothing available for event key: EventKey(type=Psana::Jungfrau::ElementV2, src=DetInfo(CxiDs1.0:Jungfrau.0))\n",
      "xtcfile=/sdf/data/lcls/ds/cxi/cxip18619/xtc/smalldata/cxip18619-r0009-s01-c00.smd.xtc live=0 finalized=1 readBytes=3145728 num(ids)=3 num(groups)=2\n",
      " id=1 group=1 fileOffset=442080 extent=196632 type=100 ver=0\n",
      " id=2 group=1 fileOffset=662240 extent=4594084 type=28 ver=2\n",
      " id=3 group=2 fileOffset=5256344 extent=8388804 type=108 ver=2\n",
      " group=1 loaded=0 ids= 1 2   group=2 loaded=1 ids= 3  \n",
      "  evtForLargeData is empty\n",
      "  user Event contains: \n",
      "    EventKey(type=Psana::EvrData::DataV4, src=DetInfo(NoDetector.0:Evr.0), alias=\"evr0\")\n",
      "    EventKey(type=Psana::Generic1D::DataV0, src=DetInfo(CxiDs1.0:Wave8.2), alias=\"CXI-DG3-BMMON-WF\")\n",
      "    EventKey(type=Psana::Jungfrau::ElementV2, src=DetInfo(CxiDs1.0:Jungfrau.0), alias=\"jungfrau4M\")\n",
      "    EventKey(type=Psana::CsPad::DataV2, src=DetInfo(CxiDs2.0:Cspad.0), alias=\"DsdCsPad\")\n",
      "    EventKey(type=Psana::Bld::BldDataEBeamV7, src=BldInfo(EBeam))\n",
      "    EventKey(type=Psana::Bld::BldDataFEEGasDetEnergyV1, src=BldInfo(FEEGasDetEnergy))\n",
      "    EventKey(type=Psana::Bld::BldDataBeamMonitorV1, src=BldInfo(CXI-DG2-BMMON))\n",
      "    EventKey(type=Psana::Bld::BldDataBeamMonitorV1, src=BldInfo(CXI-DG3-BMMON))\n",
      "    EventKey(type=PSEvt::EventOffset)\n",
      "    EventKey(type=PSEvt::EventId)\n",
      "    EventKey(type=PSEvt::DamageMap)\n",
      "    EventKey(type=XtcInput::DgramList)\n",
      "\n"
     ]
    },
    {
     "ename": "AttributeError",
     "evalue": "'NoneType' object has no attribute 'shape'",
     "output_type": "error",
     "traceback": [
      "\u001b[0;31m---------------------------------------------------------------------------\u001b[0m",
      "\u001b[0;31mAttributeError\u001b[0m                            Traceback (most recent call last)",
      "Cell \u001b[0;32mIn[2], line 4\u001b[0m\n\u001b[1;32m      1\u001b[0m \u001b[38;5;28;01mfor\u001b[39;00m event \u001b[38;5;129;01min\u001b[39;00m ds\u001b[38;5;241m.\u001b[39mevents():\n\u001b[1;32m      2\u001b[0m     \u001b[38;5;28;01mbreak\u001b[39;00m\n\u001b[0;32m----> 4\u001b[0m \u001b[43mdet\u001b[49m\u001b[38;5;241;43m.\u001b[39;49m\u001b[43mcalib\u001b[49m\u001b[43m(\u001b[49m\u001b[43mevent\u001b[49m\u001b[43m)\u001b[49m\u001b[38;5;241;43m.\u001b[39;49m\u001b[43mshape\u001b[49m\n",
      "\u001b[0;31mAttributeError\u001b[0m: 'NoneType' object has no attribute 'shape'"
     ]
    }
   ],
   "source": [
    "for event in ds.events():\n",
    "    break\n",
    "\n",
    "det.calib(event).shape"
   ]
  },
  {
   "cell_type": "code",
   "execution_count": 5,
   "id": "2dc2bc92-0845-4cbe-b0db-2a365fd867c7",
   "metadata": {},
   "outputs": [
    {
     "data": {
      "text/plain": [
       "[EventKey(type=psana.EvrData.DataV4, src='DetInfo(NoDetector.0:Evr.0)', alias='evr0'),\n",
       " EventKey(type=psana.Generic1D.DataV0, src='DetInfo(CxiDs1.0:Wave8.2)', alias='CXI-DG3-BMMON-WF'),\n",
       " EventKey(type=psana.Jungfrau.ElementV2, src='DetInfo(CxiDs1.0:Jungfrau.0)', alias='jungfrau4M'),\n",
       " EventKey(type=psana.CsPad.DataV2, src='DetInfo(CxiDs2.0:Cspad.0)', alias='DsdCsPad'),\n",
       " EventKey(type=psana.Bld.BldDataEBeamV7, src='BldInfo(EBeam)'),\n",
       " EventKey(type=psana.Bld.BldDataFEEGasDetEnergyV1, src='BldInfo(FEEGasDetEnergy)'),\n",
       " EventKey(type=psana.Bld.BldDataBeamMonitorV1, src='BldInfo(CXI-DG2-BMMON)'),\n",
       " EventKey(type=psana.Bld.BldDataBeamMonitorV1, src='BldInfo(CXI-DG3-BMMON)'),\n",
       " EventKey(type=psana.EventOffset),\n",
       " EventKey(type=psana.EventId),\n",
       " EventKey(type=None),\n",
       " EventKey(type=psana.DgramList)]"
      ]
     },
     "execution_count": 5,
     "metadata": {},
     "output_type": "execute_result"
    }
   ],
   "source": [
    "event.keys()"
   ]
  },
  {
   "cell_type": "code",
   "execution_count": 13,
   "id": "59ae1eea-d41f-4e7a-8962-f86ea7cbc635",
   "metadata": {},
   "outputs": [
    {
     "data": {
      "text/plain": [
       "XtcEventId(run=9, time=2021-11-14 18:24:13.695529463-08, fiducials=56487, ticks=329832, vector=25124, control=140)"
      ]
     },
     "execution_count": 13,
     "metadata": {},
     "output_type": "execute_result"
    }
   ],
   "source": [
    "event.get(psana.EventId)\n"
   ]
  },
  {
   "cell_type": "code",
   "execution_count": 14,
   "id": "766d0269-5631-4960-ae56-98f2ae467d6b",
   "metadata": {},
   "outputs": [],
   "source": [
    "for event in ds.events():\n",
    "    break"
   ]
  },
  {
   "cell_type": "code",
   "execution_count": 15,
   "id": "0551e5f3-0693-4102-8212-0c91766a7b06",
   "metadata": {},
   "outputs": [
    {
     "data": {
      "text/plain": [
       "XtcEventId(run=9, time=2021-11-14 18:24:13.703928182-08, fiducials=56490, ticks=331498, vector=25125, control=140)"
      ]
     },
     "execution_count": 15,
     "metadata": {},
     "output_type": "execute_result"
    }
   ],
   "source": [
    "event.get(psana.EventId)\n"
   ]
  },
  {
   "cell_type": "code",
   "execution_count": 18,
   "id": "61391115-837b-4d83-8307-7b8fcc297291",
   "metadata": {},
   "outputs": [],
   "source": [
    "for event in ds.events():\n",
    "    break\n",
    "e_id = event.get(psana.EventId)\n"
   ]
  },
  {
   "cell_type": "code",
   "execution_count": 19,
   "id": "0bb0349f-bd6c-478c-8d2a-45d2962a1c06",
   "metadata": {},
   "outputs": [
    {
     "data": {
      "text/plain": [
       "25128"
      ]
     },
     "execution_count": 19,
     "metadata": {},
     "output_type": "execute_result"
    }
   ],
   "source": [
    "e_id.vector()"
   ]
  },
  {
   "cell_type": "code",
   "execution_count": 21,
   "id": "c97baa2b-8556-47af-8f5d-2897db629af3",
   "metadata": {},
   "outputs": [
    {
     "data": {
      "text/plain": [
       "<psana.StepIter(@0x7efe248c1180)>"
      ]
     },
     "execution_count": 21,
     "metadata": {},
     "output_type": "execute_result"
    }
   ],
   "source": [
    "ds.steps()"
   ]
  },
  {
   "cell_type": "code",
   "execution_count": 6,
   "id": "e0f13132-1eb1-4de9-b67c-cacaf2490d57",
   "metadata": {},
   "outputs": [
    {
     "name": "stderr",
     "output_type": "stream",
     "text": [
      "2025-07-10 08:40:02.111 [ERR] {SmallDataProxy} SmallDataProxy.cpp:570 - failed to read expected amount: 8388804 only read -1 in large file /sdf/data/lcls/ds/cxi/cxip18619/xtc/cxip18619-r0009-s03-c00.xtc\n",
      "2025-07-10 08:40:02.111 [ERR] {SmallDataProxy} SmallDataProxy.cpp:595 - readBlockFromLargeFile return null\n",
      "2025-07-10 08:40:02.111 [ERR] {SmallDataProxy} SmallDataProxy.cpp:667 - Unexpected: group 2 for id 3 is loaded, but nothing available for event key: EventKey(type=Psana::Jungfrau::ElementV2, src=DetInfo(CxiDs1.0:Jungfrau.0))\n",
      "xtcfile=/sdf/data/lcls/ds/cxi/cxip18619/xtc/smalldata/cxip18619-r0009-s03-c00.smd.xtc live=0 finalized=1 readBytes=3145728 num(ids)=3 num(groups)=2\n",
      " id=1 group=1 fileOffset=13645328 extent=196632 type=100 ver=0\n",
      " id=2 group=1 fileOffset=13866228 extent=4594084 type=28 ver=2\n",
      " id=3 group=2 fileOffset=18460332 extent=8388804 type=108 ver=2\n",
      " group=1 loaded=0 ids= 1 2   group=2 loaded=1 ids= 3  \n",
      "  evtForLargeData is empty\n",
      "  user Event contains: \n",
      "    EventKey(type=Psana::EvrData::DataV4, src=DetInfo(NoDetector.0:Evr.0), alias=\"evr0\")\n",
      "    EventKey(type=Psana::Generic1D::DataV0, src=DetInfo(CxiDs1.0:Wave8.2), alias=\"CXI-DG3-BMMON-WF\")\n",
      "    EventKey(type=Psana::Jungfrau::ElementV2, src=DetInfo(CxiDs1.0:Jungfrau.0), alias=\"jungfrau4M\")\n",
      "    EventKey(type=Psana::CsPad::DataV2, src=DetInfo(CxiDs2.0:Cspad.0), alias=\"DsdCsPad\")\n",
      "    EventKey(type=Psana::Bld::BldDataEBeamV7, src=BldInfo(EBeam))\n",
      "    EventKey(type=Psana::Bld::BldDataFEEGasDetEnergyV1, src=BldInfo(FEEGasDetEnergy))\n",
      "    EventKey(type=Psana::Bld::BldDataBeamMonitorV1, src=BldInfo(CXI-DG2-BMMON))\n",
      "    EventKey(type=Psana::Bld::BldDataBeamMonitorV1, src=BldInfo(CXI-DG3-BMMON))\n",
      "    EventKey(type=PSEvt::EventOffset)\n",
      "    EventKey(type=PSEvt::EventId)\n",
      "    EventKey(type=PSEvt::DamageMap)\n",
      "    EventKey(type=XtcInput::DgramList)\n",
      "\n"
     ]
    }
   ],
   "source": [
    "import psana\n",
    "ds = psana.DataSource(f'exp=cxip18619:run=9:smd')\n",
    "env = ds.env()\n",
    "det = psana.Detector('CxiDs1.0:Jungfrau.0', env)\n",
    "count =0\n",
    "for event in ds.events():\n",
    "    count+=1\n",
    "    if count>10:\n",
    "        break\n",
    "calib = det.calib(event)"
   ]
  },
  {
   "cell_type": "code",
   "execution_count": 8,
   "id": "3feb524c-2650-4920-9a8f-f1435e32fe35",
   "metadata": {},
   "outputs": [
    {
     "name": "stdout",
     "output_type": "stream",
     "text": [
      "None\n"
     ]
    }
   ],
   "source": [
    "print(calib)"
   ]
  },
  {
   "cell_type": "code",
   "execution_count": null,
   "id": "292dd673-0e32-4eb1-8e73-6060ee5bdb9b",
   "metadata": {},
   "outputs": [],
   "source": []
  }
 ],
 "metadata": {
  "kernelspec": {
   "display_name": "Python 3 (ipykernel)",
   "language": "python",
   "name": "python3"
  },
  "language_info": {
   "codemirror_mode": {
    "name": "ipython",
    "version": 3
   },
   "file_extension": ".py",
   "mimetype": "text/x-python",
   "name": "python",
   "nbconvert_exporter": "python",
   "pygments_lexer": "ipython3",
   "version": "3.9.20"
  }
 },
 "nbformat": 4,
 "nbformat_minor": 5
}
