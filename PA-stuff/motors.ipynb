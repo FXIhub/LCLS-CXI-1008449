{
 "cells": [
  {
   "cell_type": "code",
   "execution_count": null,
   "id": "d18c88da-e77f-40a4-b507-b0ffd9b87404",
   "metadata": {},
   "outputs": [],
   "source": [
    "ds = psana.MPIDataSource(f'exp={EXP_NAME}:run={27}:smd')\n",
    "\n",
    "motors_cx = psana.Detector('CXI:PI2:MMS:01.RBV')\n",
    "motors_cy = psana.Detector('CXI:PI2:MMS:02.RBV')\n",
    "motors_cz = psana.Detector('CXI:PI2:MMS:03.RBV')\n",
    "\n",
    "\n",
    "motors_fx = psana.Detector('CXI:PI2:MMS:04.RBV')\n",
    "motors_fy = psana.Detector('CXI:PI2:MMS:05.RBV')\n",
    "motors_fz = psana.Detector('CXI:PI2:MMS:06.RBV')"
   ]
  }
 ],
 "metadata": {
  "kernelspec": {
   "display_name": "Python 3 (ipykernel)",
   "language": "python",
   "name": "python3"
  },
  "language_info": {
   "codemirror_mode": {
    "name": "ipython",
    "version": 3
   },
   "file_extension": ".py",
   "mimetype": "text/x-python",
   "name": "python",
   "nbconvert_exporter": "python",
   "pygments_lexer": "ipython3",
   "version": "3.9.20"
  }
 },
 "nbformat": 4,
 "nbformat_minor": 5
}
